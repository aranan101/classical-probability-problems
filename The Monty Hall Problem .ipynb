{
 "cells": [
  {
   "cell_type": "markdown",
   "id": "afd32023",
   "metadata": {},
   "source": [
    "The Monty Hall problem has been discussed by various mathematicians and has been done to death. A good video on explaining it can be found here: \n",
    "\n",
    "https://www.youtube.com/watch?v=fDcjhAKuhqQ&list=EC2SOU6wwxB0uwwH80KTQ6ht66KWxbzTIo\n",
    "\n",
    "Here we'll simulate it computationally "
   ]
  },
  {
   "cell_type": "code",
   "execution_count": 1,
   "id": "119188b9",
   "metadata": {},
   "outputs": [],
   "source": [
    "import numpy as np"
   ]
  },
  {
   "cell_type": "code",
   "execution_count": 84,
   "id": "62c9596a",
   "metadata": {
    "scrolled": true
   },
   "outputs": [
    {
     "name": "stdout",
     "output_type": "stream",
     "text": [
      "probability of success if switching doors is 0.6638\n",
      "probability of success if keeping to initial guess  is 0.3362\n"
     ]
    }
   ],
   "source": [
    "# intialize paramters: \n",
    "prizes = [1, 0, 0]\n",
    "success_switch = 0\n",
    "success_initial = 0\n",
    "nsims = 10000\n",
    "\n",
    "# Iterate the experiment over multiple times \n",
    "for epoch in range(nsims):\n",
    "    np.random.shuffle(prizes)\n",
    "    initial_choice = np.random.randint(0,3)\n",
    "    other_doors = [i for i in [0,1,2] if i != initial_choice]\n",
    "    if prizes[initial_choice] == 1: \n",
    "        opened_door = np.random.choice(other_doors)\n",
    "        success_initial+= 1.0\n",
    "    else: \n",
    "        opened_door = [k for k in other_doors if prizes[k] != 1][0]\n",
    "    switch_choice = [j for j in other_doors if j != opened_door ][0]\n",
    "    \n",
    "    if prizes[switch_choice] == 1:\n",
    "        success_switch += 1.0\n",
    "# Calculate the probabilty of success by switching versus probability of success by remaining \n",
    "P_success_initial = success_initial/nsims\n",
    "P_success_switch = success_switch/nsims\n",
    "\n",
    "\n",
    "print(f\"probability of success if switching doors is {P_success_switch}\")\n",
    "print(f\"probability of success if keeping to initial guess  is {P_success_initial}\")\n",
    "        \n",
    "        \n",
    "    \n",
    "\n",
    "        \n",
    "    \n",
    "\n",
    "    \n",
    "    \n",
    "        \n",
    "\n",
    "\n",
    "    \n",
    "\n"
   ]
  }
 ],
 "metadata": {
  "kernelspec": {
   "display_name": "Python 3",
   "language": "python",
   "name": "python3"
  },
  "language_info": {
   "codemirror_mode": {
    "name": "ipython",
    "version": 3
   },
   "file_extension": ".py",
   "mimetype": "text/x-python",
   "name": "python",
   "nbconvert_exporter": "python",
   "pygments_lexer": "ipython3",
   "version": "3.8.5"
  }
 },
 "nbformat": 4,
 "nbformat_minor": 5
}
