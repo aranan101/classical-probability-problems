{
 "cells": [
  {
   "cell_type": "markdown",
   "id": "564ae575",
   "metadata": {},
   "source": [
    "Get a 2 card hand from a 52 card deck. Which of the following events is more likely? \n",
    "1. Have both aces given that one of the cards is an ace of spades \n",
    "2. Have both aces given that one of the cards is an ace "
   ]
  },
  {
   "cell_type": "code",
   "execution_count": 58,
   "id": "ef73c0de",
   "metadata": {},
   "outputs": [
    {
     "name": "stdout",
     "output_type": "stream",
     "text": [
      "event 1 has probability 0.05807962529274005\n",
      "event 2 has probability 0.030075492866363435\n"
     ]
    },
    {
     "data": {
      "text/plain": [
       "[None, None]"
      ]
     },
     "execution_count": 58,
     "metadata": {},
     "output_type": "execute_result"
    }
   ],
   "source": [
    "import numpy as np \n",
    "## Frequentist approach \n",
    "\n",
    "# Generate cards and shuffle \n",
    "suits = [\"club\", \"spade\", \"diamond\", \"heart\"]\n",
    "numbers = [str(i) for i in range(2,11)]\n",
    "[numbers.append(j) for j in [\"A\", \"K\", \"Q\", \"J\"]]\n",
    "deck = np.array([i + \"_\"+ j for i in numbers for j in suits])\n",
    "np.random.shuffle(deck)\n",
    "ace_cards = ['A_club', 'A_spade','A_diamond', 'A_heart']\n",
    "\n",
    "# This code and problem takes a long time to converge to the mathematical solution, tried with 100,000 iterations and still \n",
    "# didn't converge precisely everytime i ran code chunk \n",
    "\n",
    "event_1_condition = 0\n",
    "event_1_happen = 0\n",
    "event_2_condition = 0\n",
    "event_2_happen = 0\n",
    "for i in range(0,1000000):\n",
    "    # event 1\n",
    "    X = np.random.choice(deck, size = 2) \n",
    "    if 'A_spade' in X:\n",
    "        event_1_condition += 1 \n",
    "        for card in  ['A_club','A_diamond', 'A_heart']: \n",
    "            if card in X:\n",
    "                event_1_happen += 1\n",
    "                break \n",
    "    # event 2\n",
    "    X = np.random.choice(deck, size = 2) \n",
    "    ace_cards_2 = ace_cards.copy()\n",
    "    for card in ace_cards_2:  \n",
    "        if card in X:\n",
    "            event_2_condition += 1 \n",
    "            ace_cards_2.remove(card)\n",
    "            for card2 in ace_cards_2: \n",
    "                if card2 in X:\n",
    "                    event_2_happen += 1\n",
    "                    break \n",
    "            break\n",
    "event_1_prob = event_1_happen/event_1_condition\n",
    "event_2_prob = event_2_happen/event_2_condition\n",
    "        \n",
    "\n",
    "[print(f\"event {i} has probability {j}\") for i,j in zip([1,2], [event_1_prob,event_2_prob])]\n",
    "        \n",
    "        \n",
    "\n"
   ]
  }
 ],
 "metadata": {
  "kernelspec": {
   "display_name": "Python 3",
   "language": "python",
   "name": "python3"
  },
  "language_info": {
   "codemirror_mode": {
    "name": "ipython",
    "version": 3
   },
   "file_extension": ".py",
   "mimetype": "text/x-python",
   "name": "python",
   "nbconvert_exporter": "python",
   "pygments_lexer": "ipython3",
   "version": "3.8.5"
  }
 },
 "nbformat": 4,
 "nbformat_minor": 5
}
