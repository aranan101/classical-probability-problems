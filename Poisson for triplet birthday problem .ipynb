{
 "cells": [
  {
   "cell_type": "code",
   "execution_count": 35,
   "id": "681229c0",
   "metadata": {},
   "outputs": [],
   "source": [
    "import numpy as np \n",
    "from math import factorial\n",
    "import time "
   ]
  },
  {
   "cell_type": "markdown",
   "id": "ae360a47",
   "metadata": {},
   "source": [
    "The idea of this is to see how well a poisson approximation works with the triplet problem: Off n people what is the probability of there being at least 3 people with the same birthday? As you can see in the code below, not only is the poisson approximation very good with a small amount of people, but also is much quicker to compute "
   ]
  },
  {
   "cell_type": "code",
   "execution_count": 33,
   "id": "06d2f29e",
   "metadata": {},
   "outputs": [],
   "source": [
    "def triplet_birthday_raw(n, nsims):\n",
    "    birthdays = [i+1 for i in range(365)]\n",
    "    event = 0\n",
    "    for i in range(int(nsims)):\n",
    "        people, same_counts = np.unique(np.random.choice(birthdays, size = n), return_counts = True)\n",
    "        if np.sum(same_counts > 2): \n",
    "            event += 1\n",
    "    \n",
    "    return event/nsims\n",
    "\n",
    "def n_choose_k(n,k): \n",
    "    n_k = factorial(n)/(factorial(n-k)*factorial(k))\n",
    "    return n_k\n",
    "\n",
    "def triplet_birthday_pois(n):\n",
    "    mean = n_choose_k(n,3)*((1/365)**2)\n",
    "    return 1 - np.exp(-mean)\n",
    "    \n",
    "            \n",
    "    "
   ]
  },
  {
   "cell_type": "code",
   "execution_count": 39,
   "id": "fe1cd29a",
   "metadata": {},
   "outputs": [
    {
     "name": "stdout",
     "output_type": "stream",
     "text": [
      "Simulation:\n",
      "probability of triplets in 10 people is 0.001\n",
      "probability of triplets in 20 people is 0.0068\n",
      "probability of triplets in 40 people is 0.0676\n",
      "probability of triplets in 80 people is 0.4169\n",
      "probability of triplets in 100 people is 0.6457\n",
      "probability of triplets in 200 people is 0.9993\n",
      "\n",
      "time elasped was 11.434889316558838\n"
     ]
    }
   ],
   "source": [
    "start = time.time()\n",
    "print(\"Simulation:\")\n",
    "for n in [10,20,40,80,100,200]: \n",
    "    prob = triplet_birthday_raw(n, 1e4)\n",
    "    print(f\"probability of triplets in {n} people is {prob}\")\n",
    "end = time.time()\n",
    "print()\n",
    "print(f\"time elasped was {end - start}\")\n"
   ]
  },
  {
   "cell_type": "code",
   "execution_count": 37,
   "id": "b9362d5a",
   "metadata": {},
   "outputs": [
    {
     "name": "stdout",
     "output_type": "stream",
     "text": [
      "Simulation:\n",
      "probability of triplets in 10 people is 0.0009003263074650603\n",
      "probability of triplets in 20 people is 0.0085204460080609\n",
      "probability of triplets in 40 people is 0.07147711870926343\n",
      "probability of triplets in 80 people is 0.4602779907263822\n",
      "probability of triplets in 100 people is 0.7029147548427459\n",
      "probability of triplets in 200 people is 0.9999476997830861\n",
      "\n",
      "time elasped was 0.0\n"
     ]
    }
   ],
   "source": [
    "start = time.time()\n",
    "print(\"Simulation:\")\n",
    "for n in [10,20,40,80,100,200]: \n",
    "    prob = triplet_birthday_pois(n)\n",
    "    print(f\"probability of triplets in {n} people is {prob}\")\n",
    "end = time.time()\n",
    "print()\n",
    "print(f\"time elasped was {end - start}\")\n"
   ]
  }
 ],
 "metadata": {
  "kernelspec": {
   "display_name": "Python [conda env:py3-TF2.0] *",
   "language": "python",
   "name": "conda-env-py3-TF2.0-py"
  },
  "language_info": {
   "codemirror_mode": {
    "name": "ipython",
    "version": 3
   },
   "file_extension": ".py",
   "mimetype": "text/x-python",
   "name": "python",
   "nbconvert_exporter": "python",
   "pygments_lexer": "ipython3",
   "version": "3.7.10"
  }
 },
 "nbformat": 4,
 "nbformat_minor": 5
}
