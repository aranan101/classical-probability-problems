{
 "cells": [
  {
   "cell_type": "markdown",
   "id": "a8bf819e",
   "metadata": {},
   "source": [
    "What is more likely? \n",
    "\n",
    "1. throwing at least one 6 in 6 fair die throws \n",
    "1. throwing at least two 6s in 12 fair die throws \n",
    "1. throwing at least three 6s in 18 fair die throws \n"
   ]
  },
  {
   "cell_type": "code",
   "execution_count": 17,
   "id": "eab973b7",
   "metadata": {},
   "outputs": [
    {
     "name": "stdout",
     "output_type": "stream",
     "text": [
      "for event 1 the estimated probability is 6.6421\n",
      "for event 2 the estimated probability is 6.1848\n",
      "for event 3 the estimated probability is 5.9637\n"
     ]
    }
   ],
   "source": [
    "import numpy as np\n",
    "\n",
    "def newton_pepys(no_sixes, no_events): \n",
    "    throws = no_sixes*6\n",
    "    counter = 0\n",
    "    for i in range(no_events):\n",
    "        event = np.random.randint(6, size= throws) + 1\n",
    "        if np.count_nonzero(event == 6) >= no_sixes: counter += 1.0\n",
    "            \n",
    "    return counter/10000\n",
    "\n",
    "for j in range(1,4): \n",
    "    print(f\"for event {j} the estimated probability is {newton_pepys(j, 100000)}\")\n"
   ]
  }
 ],
 "metadata": {
  "kernelspec": {
   "display_name": "Python 3",
   "language": "python",
   "name": "python3"
  },
  "language_info": {
   "codemirror_mode": {
    "name": "ipython",
    "version": 3
   },
   "file_extension": ".py",
   "mimetype": "text/x-python",
   "name": "python",
   "nbconvert_exporter": "python",
   "pygments_lexer": "ipython3",
   "version": "3.8.5"
  }
 },
 "nbformat": 4,
 "nbformat_minor": 5
}
