{
 "cells": [
  {
   "cell_type": "code",
   "execution_count": 2,
   "id": "b363dbaf",
   "metadata": {},
   "outputs": [],
   "source": [
    "import numpy as np \n"
   ]
  },
  {
   "cell_type": "markdown",
   "id": "d46654ba",
   "metadata": {},
   "source": [
    "A family has two children. Assume that birth month is independent of gender,\n",
    "with boys and girls equally likely and all months equally likely, and assume that the\n",
    "elder child’s characteristics are independent of the younger child’s characteristics).\n",
    "1. Find the probability that both are girls, given that the elder child is a girl who\n",
    "was born in March.\n",
    "2. Find the probability that both are girls, given that at least one is a girl who was\n",
    "born in March."
   ]
  },
  {
   "cell_type": "code",
   "execution_count": 16,
   "id": "69909b08",
   "metadata": {},
   "outputs": [
    {
     "name": "stdout",
     "output_type": "stream",
     "text": [
      " prob of the event 1 is 0.49747899159663866\n",
      " prob of the event 2 is 0.488160518444666\n"
     ]
    }
   ],
   "source": [
    "months = [i+1 for i in range(12)]\n",
    "gender = [\"b\",\"g\"]\n",
    "condition_1 = 0\n",
    "event_1 = 0\n",
    "condition_2 = 0\n",
    "event_2 = 0\n",
    "\n",
    "for j in range(100000):\n",
    "    eldest_child = [np.random.choice(months),np.random.choice(gender) ]\n",
    "    youngest_child = [np.random.choice(months),np.random.choice(gender) ]\n",
    "\n",
    "    #event 1\n",
    "    if eldest_child == [3, 'g']: \n",
    "        condition_1 += 1 \n",
    "        if youngest_child[1] == \"g\": \n",
    "            event_1 += 1\n",
    "    \n",
    "    #event 2 \n",
    "    if eldest_child == [3, 'g'] or youngest_child == [3, 'g']: \n",
    "        condition_2 += 1 \n",
    "        if eldest_child[1] == \"g\" and youngest_child[1] == \"g\": \n",
    "            event_2 += 1\n",
    "            \n",
    "            \n",
    "p_event_1 = event_1/condition_1\n",
    "p_event_2 = event_2/condition_2\n",
    "\n",
    "print(f\" prob of the event 1 is {p_event_1}\")\n",
    "print(f\" prob of the event 2 is {p_event_2}\")"
   ]
  },
  {
   "cell_type": "code",
   "execution_count": 14,
   "id": "24518a6d",
   "metadata": {},
   "outputs": [
    {
     "data": {
      "text/plain": [
       "0.48314606741573035"
      ]
     },
     "execution_count": 14,
     "metadata": {},
     "output_type": "execute_result"
    }
   ],
   "source": []
  }
 ],
 "metadata": {
  "kernelspec": {
   "display_name": "Python 3",
   "language": "python",
   "name": "python3"
  },
  "language_info": {
   "codemirror_mode": {
    "name": "ipython",
    "version": 3
   },
   "file_extension": ".py",
   "mimetype": "text/x-python",
   "name": "python",
   "nbconvert_exporter": "python",
   "pygments_lexer": "ipython3",
   "version": "3.8.5"
  }
 },
 "nbformat": 4,
 "nbformat_minor": 5
}
